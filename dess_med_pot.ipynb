{
 "cells": [
  {
   "cell_type": "markdown",
   "id": "3d01a15f",
   "metadata": {},
   "source": [
    " DESSERT MEDICAUX: avec les coordonnées gps et la population des communes en france"
   ]
  },
  {
   "cell_type": "code",
   "execution_count": null,
   "id": "15aa95ef",
   "metadata": {},
   "outputs": [],
   "source": [
    "import pandas as pd\n",
    "import numpy as np\n",
    "import folium"
   ]
  },
  {
   "cell_type": "code",
   "execution_count": 2,
   "id": "c90da41a",
   "metadata": {},
   "outputs": [
    {
     "data": {
      "text/html": [
       "<div>\n",
       "<style scoped>\n",
       "    .dataframe tbody tr th:only-of-type {\n",
       "        vertical-align: middle;\n",
       "    }\n",
       "\n",
       "    .dataframe tbody tr th {\n",
       "        vertical-align: top;\n",
       "    }\n",
       "\n",
       "    .dataframe thead th {\n",
       "        text-align: right;\n",
       "    }\n",
       "</style>\n",
       "<table border=\"1\" class=\"dataframe\">\n",
       "  <thead>\n",
       "    <tr style=\"text-align: right;\">\n",
       "      <th></th>\n",
       "      <th>Nom_commune</th>\n",
       "      <th>PTOT</th>\n",
       "      <th>coordonnees_gps</th>\n",
       "    </tr>\n",
       "  </thead>\n",
       "  <tbody>\n",
       "    <tr>\n",
       "      <th>0</th>\n",
       "      <td>VILLE DU PONT</td>\n",
       "      <td>343</td>\n",
       "      <td>46.999873398,6.498147193</td>\n",
       "    </tr>\n",
       "    <tr>\n",
       "      <th>1</th>\n",
       "      <td>VILLERS GRELOT</td>\n",
       "      <td>151</td>\n",
       "      <td>47.361512085,6.235167025</td>\n",
       "    </tr>\n",
       "    <tr>\n",
       "      <th>2</th>\n",
       "      <td>SOLAURE EN DIOIS</td>\n",
       "      <td>436</td>\n",
       "      <td>44.70587354,5.387770455</td>\n",
       "    </tr>\n",
       "    <tr>\n",
       "      <th>3</th>\n",
       "      <td>SOLAURE EN DIOIS</td>\n",
       "      <td>436</td>\n",
       "      <td>44.70587354,5.387770455</td>\n",
       "    </tr>\n",
       "    <tr>\n",
       "      <th>4</th>\n",
       "      <td>ALEYRAC</td>\n",
       "      <td>50</td>\n",
       "      <td>44.499150841,4.946083614</td>\n",
       "    </tr>\n",
       "    <tr>\n",
       "      <th>...</th>\n",
       "      <td>...</td>\n",
       "      <td>...</td>\n",
       "      <td>...</td>\n",
       "    </tr>\n",
       "    <tr>\n",
       "      <th>38712</th>\n",
       "      <td>VALMONDOIS</td>\n",
       "      <td>1238</td>\n",
       "      <td>49.098061377,2.18024882</td>\n",
       "    </tr>\n",
       "    <tr>\n",
       "      <th>38713</th>\n",
       "      <td>VIARMES</td>\n",
       "      <td>5267</td>\n",
       "      <td>49.123452595,2.378532448</td>\n",
       "    </tr>\n",
       "    <tr>\n",
       "      <th>38714</th>\n",
       "      <td>VILLAINES SOUS BOIS</td>\n",
       "      <td>783</td>\n",
       "      <td>49.07485198,2.356863634</td>\n",
       "    </tr>\n",
       "    <tr>\n",
       "      <th>38715</th>\n",
       "      <td>VILLERON</td>\n",
       "      <td>1520</td>\n",
       "      <td>49.060719686,2.5348582139999998</td>\n",
       "    </tr>\n",
       "    <tr>\n",
       "      <th>38716</th>\n",
       "      <td>VILLIERS ADAM</td>\n",
       "      <td>872</td>\n",
       "      <td>49.069898107,2.238718551</td>\n",
       "    </tr>\n",
       "  </tbody>\n",
       "</table>\n",
       "<p>38717 rows × 3 columns</p>\n",
       "</div>"
      ],
      "text/plain": [
       "               Nom_commune  PTOT                  coordonnees_gps\n",
       "0            VILLE DU PONT   343         46.999873398,6.498147193\n",
       "1           VILLERS GRELOT   151         47.361512085,6.235167025\n",
       "2         SOLAURE EN DIOIS   436          44.70587354,5.387770455\n",
       "3         SOLAURE EN DIOIS   436          44.70587354,5.387770455\n",
       "4                  ALEYRAC    50         44.499150841,4.946083614\n",
       "...                    ...   ...                              ...\n",
       "38712           VALMONDOIS  1238          49.098061377,2.18024882\n",
       "38713              VIARMES  5267         49.123452595,2.378532448\n",
       "38714  VILLAINES SOUS BOIS   783          49.07485198,2.356863634\n",
       "38715             VILLERON  1520  49.060719686,2.5348582139999998\n",
       "38716        VILLIERS ADAM   872         49.069898107,2.238718551\n",
       "\n",
       "[38717 rows x 3 columns]"
      ]
     },
     "execution_count": 2,
     "metadata": {},
     "output_type": "execute_result"
    }
   ],
   "source": [
    "code_commune_post = pd.read_csv(\"laposte_hexasmal.csv\", sep=\";\")\n",
    "code_commune= pd.read_csv(\"donnees_communes.csv\", sep=\";\")\n",
    "code_commune.CODCOM=code_commune.CODCOM.apply(lambda x : str(x).zfill(3))\n",
    "code_commune['Code_commune_INSEE']=code_commune.CODDEP+code_commune.CODCOM\n",
    "merges=pd.merge(code_commune_post,code_commune,on='Code_commune_INSEE')\n",
    "merges=merges[[\"Nom_commune\",\"PTOT\",\"coordonnees_gps\"]]\n",
    "merges"
   ]
  },
  {
   "cell_type": "code",
   "execution_count": 3,
   "id": "69836711",
   "metadata": {},
   "outputs": [],
   "source": [
    "lat_long=np.array(merges['coordonnees_gps'])\n",
    "nom_ville=np.array(merges['Nom_commune'])\n",
    "population=np.array(merges['PTOT'])\n",
    "m2 = folium.Map(location=[46.227638,2.213749], tiles=\"OpenStreetMap\", zoom_start=5)\n",
    "for i in range(len(nom_ville)):\n",
    "    val=lat_long[i].split(\",\")\n",
    "    tooltip = nom_ville[i]\n",
    "    folium.Marker(location=[float(val[0]),float(val[1])],popup=population[i], tooltip=tooltip).add_to(m2)\n",
    "#m2"
   ]
  }
 ],
 "metadata": {
  "kernelspec": {
   "display_name": "Python 3 (ipykernel)",
   "language": "python",
   "name": "python3"
  },
  "language_info": {
   "codemirror_mode": {
    "name": "ipython",
    "version": 3
   },
   "file_extension": ".py",
   "mimetype": "text/x-python",
   "name": "python",
   "nbconvert_exporter": "python",
   "pygments_lexer": "ipython3",
   "version": "3.9.12"
  },
  "vscode": {
   "interpreter": {
    "hash": "a49e2be4e7652cd1910b1f2624c43c7d4f3efea376b103c9938df6acd2b5f908"
   }
  }
 },
 "nbformat": 4,
 "nbformat_minor": 5
}
