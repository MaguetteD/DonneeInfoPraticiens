{
 "cells": [
  {
   "cell_type": "code",
   "execution_count": null,
   "id": "807bd408",
   "metadata": {},
   "outputs": [],
   "source": [
    "import requests\n",
    "from bs4 import BeautifulSoup\n",
    "import pandas as pd\n",
    "import re\n",
    "import numpy as np\n",
    "import matplotlib.pyplot as plt"
   ]
  },
  {
   "cell_type": "markdown",
   "id": "36710773",
   "metadata": {},
   "source": [
    "la liste de tous les départements de l'occitanie"
   ]
  },
  {
   "cell_type": "code",
   "execution_count": null,
   "id": "1fab25e2",
   "metadata": {},
   "outputs": [],
   "source": [
    "dep_occitanie=[\"/trouver-un-professionnel-de-sante/chirurgiens-dentistes/09-ariege\",\n",
    "\"/trouver-un-professionnel-de-sante/chirurgiens-dentistes/11-aude\",\"/trouver-un-professionnel-de-sante/chirurgiens-dentistes/12-aveyron\",\"/trouver-un-professionnel-de-sante/chirurgiens-dentistes/30-gard\",\n",
    "\"/trouver-un-professionnel-de-sante/chirurgiens-dentistes/31-haute-garonne\",\"/trouver-un-professionnel-de-sante/chirurgiens-dentistes/32-gers\",\"/trouver-un-professionnel-de-sante/chirurgiens-dentistes/34-herault\",\n",
    "\"/trouver-un-professionnel-de-sante/chirurgiens-dentistes/46-lot\",\n",
    "\"/trouver-un-professionnel-de-sante/chirurgiens-dentistes/48-lozere\",\n",
    "\"/trouver-un-professionnel-de-sante/chirurgiens-dentistes/65-hautes-pyrenees\",\n",
    "\"/trouver-un-professionnel-de-sante/chirurgiens-dentistes/66-pyrenees-orientales\",\n",
    "\"/trouver-un-professionnel-de-sante/chirurgiens-dentistes/81-tarn\",\n",
    "\"/trouver-un-professionnel-de-sante/chirurgiens-dentistes/82-tarn-et-garonne\"]"
   ]
  },
  {
   "cell_type": "code",
   "execution_count": null,
   "id": "4313a693",
   "metadata": {},
   "outputs": [],
   "source": [
    "base_url = \"http://annuairesante.ameli.fr\"\n",
    "url = \"http://annuairesante.ameli.fr/trouver-un-professionnel-de-sante/chirurgiens-dentistes/{dep}-loire-atlantique\"\n",
    "#url à remplacer avec les départements de l'occitanie"
   ]
  },
  {
   "cell_type": "code",
   "execution_count": null,
   "id": "39a9b477",
   "metadata": {},
   "outputs": [],
   "source": [
    "response = requests.get(url)\n",
    "soup = BeautifulSoup(response.text,'html.parser')\n",
    "a_href = soup.findAll('a')"
   ]
  },
  {
   "cell_type": "code",
   "execution_count": null,
   "id": "37f2eb1e",
   "metadata": {},
   "outputs": [],
   "source": [
    "list_url_ville = [] \n",
    "list_ville = [] \n",
    "a_href = a_href[3:-6]\n",
    "for link in a_href:\n",
    "    if link.has_attr('href'):\n",
    "        list_url_ville.append(link['href'])\n",
    "        list_ville.append(link.text)"
   ]
  },
  {
   "cell_type": "code",
   "execution_count": null,
   "id": "4af0b612",
   "metadata": {},
   "outputs": [],
   "source": [
    "def get_praticien_ville(ville, url):\n",
    "    response_name = requests.get(base_url + url)\n",
    "    soup_name = BeautifulSoup(response_name.text, 'html.parser')\n",
    "    name = soup_name.findAll('a')\n",
    "    adress = soup_name.findAll(class_=\"item left adresse\")\n",
    "    \n",
    "    # contient le nom et le prenom de tous les praticiens de la ville\n",
    "    name_clean = [] \n",
    "    for n in name:\n",
    "        if n.strong:\n",
    "            name_clean.append(n)\n",
    "            \n",
    "    # liste des informations des praticiens de la ville: nom, adresse et ville\n",
    "    list_info_praticiens = [] \n",
    "    for j in range(len(name_clean)):\n",
    "        \n",
    "        info_praticiens = {}        \n",
    "        info_praticiens['nom'] = name_clean[j].text\n",
    "        info_praticiens['adress'] = adress[j].text\n",
    "        info_praticiens['ville'] = ville\n",
    "        list_info_praticiens.append(info_praticiens)\n",
    "        \n",
    "    return list_info_praticiens\n"
   ]
  },
  {
   "cell_type": "code",
   "execution_count": null,
   "id": "f9fb9e83",
   "metadata": {},
   "outputs": [],
   "source": [
    "all_praticiens = [] \n",
    "for i in range(len(list_url_ville)):\n",
    "    praticiens = get_praticien_ville(list_ville[i], list_url_ville[i])\n",
    "    all_praticiens.extend(praticiens)     \n",
    "# all_praticiens"
   ]
  },
  {
   "cell_type": "code",
   "execution_count": null,
   "id": "382971ec",
   "metadata": {},
   "outputs": [],
   "source": [
    "df = pd.DataFrame(all_praticiens)"
   ]
  },
  {
   "cell_type": "code",
   "execution_count": null,
   "id": "d16c308d",
   "metadata": {},
   "outputs": [],
   "source": [
    "df.shape"
   ]
  },
  {
   "cell_type": "code",
   "execution_count": null,
   "id": "13f015c5",
   "metadata": {},
   "outputs": [],
   "source": [
    "df['code_postal'] = df.ville.apply(lambda x: re.findall('\\d+', x)[0])"
   ]
  },
  {
   "cell_type": "code",
   "execution_count": null,
   "id": "c52cbdad",
   "metadata": {},
   "outputs": [],
   "source": [
    "groupby_code_postal = df.groupby(['code_postal']).size().reset_index()\n",
    "groupby_code_postal.columns=['code_postal','nb_praticiens']\n",
    "groupby_code_postal"
   ]
  },
  {
   "cell_type": "code",
   "execution_count": null,
   "id": "e99465c9",
   "metadata": {},
   "outputs": [],
   "source": [
    "code_commune = pd.read_csv(\"donnees_communes.csv\", sep=\";\")"
   ]
  },
  {
   "cell_type": "code",
   "execution_count": 1,
   "id": "63ebe445",
   "metadata": {},
   "outputs": [
    {
     "ename": "NameError",
     "evalue": "name 'pd' is not defined",
     "output_type": "error",
     "traceback": [
      "\u001b[1;31m---------------------------------------------------------------------------\u001b[0m",
      "\u001b[1;31mNameError\u001b[0m                                 Traceback (most recent call last)",
      "Input \u001b[1;32mIn [1]\u001b[0m, in \u001b[0;36m<cell line: 1>\u001b[1;34m()\u001b[0m\n\u001b[1;32m----> 1\u001b[0m code_commune_post \u001b[38;5;241m=\u001b[39m \u001b[43mpd\u001b[49m\u001b[38;5;241m.\u001b[39mread_csv(\u001b[38;5;124m\"\u001b[39m\u001b[38;5;124mlaposte_hexasmal.csv\u001b[39m\u001b[38;5;124m\"\u001b[39m, sep\u001b[38;5;241m=\u001b[39m\u001b[38;5;124m\"\u001b[39m\u001b[38;5;124m;\u001b[39m\u001b[38;5;124m\"\u001b[39m)\n",
      "\u001b[1;31mNameError\u001b[0m: name 'pd' is not defined"
     ]
    }
   ],
   "source": [
    "code_commune_post = pd.read_csv(\"laposte_hexasmal.csv\", sep=\";\")"
   ]
  },
  {
   "cell_type": "code",
   "execution_count": null,
   "id": "e3d52062",
   "metadata": {},
   "outputs": [],
   "source": [
    "code_commune.CODCOM=code_commune.CODCOM.apply(lambda x : str(x).zfill(3))\n",
    "code_commune['code_commune_insee']=code_commune.CODDEP+code_commune.CODCOM"
   ]
  },
  {
   "cell_type": "code",
   "execution_count": null,
   "id": "44dcc2a0",
   "metadata": {},
   "outputs": [],
   "source": [
    "merges=pd.merge(code_commune_post,code_commune,on='code_commune_insee')\n",
    "merges.code_postal=merges.code_postal.astype(str)"
   ]
  },
  {
   "cell_type": "code",
   "execution_count": null,
   "id": "c5ff8e06",
   "metadata": {},
   "outputs": [],
   "source": [
    "merges=merges[[\"code_postal\",\"PTOT\"]]\n",
    "merges"
   ]
  },
  {
   "cell_type": "code",
   "execution_count": null,
   "id": "6a7b8d72",
   "metadata": {},
   "outputs": [],
   "source": [
    "newDataFrame=groupby_code_postal.merge(merges,on =\"code_postal\",how='inner')\n",
    "newDataFrame['population_sur_nb_praticiens']=newDataFrame.PTOT/newDataFrame.nb_praticiens\n",
    "newDataFrame"
   ]
  },
  {
   "cell_type": "code",
   "execution_count": null,
   "id": "fa56ff3b",
   "metadata": {},
   "outputs": [],
   "source": [
    "# les statistiques\n",
    "newDataFrame.describe()"
   ]
  },
  {
   "cell_type": "code",
   "execution_count": null,
   "id": "97e60455",
   "metadata": {},
   "outputs": [],
   "source": [
    "y = pd.Series(newDataFrame.PTOT) \n",
    "x = pd.Series(newDataFrame.nb_praticiens) \n",
    "plt.scatter(x, y) \n",
    "plt.title(\"corrélation du nombre d'habitant de chaque ville en fonction du nombre de praticien\")\n",
    "plt.xlabel('x: nombre de praticiens par commune') \n",
    "plt.ylabel('y: la population total par commune')\n",
    "  \n",
    "plt.plot(np.unique(x), np.poly1d(np.polyfit(x, y, 1)) \n",
    "         (np.unique(x)), color='red') "
   ]
  },
  {
   "cell_type": "code",
   "execution_count": null,
   "id": "634685da",
   "metadata": {},
   "outputs": [],
   "source": []
  }
 ],
 "metadata": {
  "kernelspec": {
   "display_name": "Python 3 (ipykernel)",
   "language": "python",
   "name": "python3"
  },
  "language_info": {
   "codemirror_mode": {
    "name": "ipython",
    "version": 3
   },
   "file_extension": ".py",
   "mimetype": "text/x-python",
   "name": "python",
   "nbconvert_exporter": "python",
   "pygments_lexer": "ipython3",
   "version": "3.9.12"
  }
 },
 "nbformat": 4,
 "nbformat_minor": 5
}
